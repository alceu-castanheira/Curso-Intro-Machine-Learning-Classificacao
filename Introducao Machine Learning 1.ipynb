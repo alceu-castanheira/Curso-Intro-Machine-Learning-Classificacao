{
 "cells": [
  {
   "cell_type": "markdown",
   "metadata": {},
   "source": [
    "# Machine Learning: Introdução a classificação com SKLearn"
   ]
  },
  {
   "cell_type": "markdown",
   "metadata": {},
   "source": [
    "# Aula 1"
   ]
  },
  {
   "cell_type": "code",
   "execution_count": 1,
   "metadata": {},
   "outputs": [],
   "source": [
    "# features (1 sim, 0 não)\n",
    "# pelo longo? \n",
    "# perna curta?\n",
    "# faz auau?\n",
    "porco1 = [0, 1, 0]\n",
    "porco2 = [0, 1, 1]\n",
    "porco3 = [1, 1, 0]\n",
    "\n",
    "cachorro1 = [0, 1, 1]\n",
    "cachorro2 = [1, 0, 1]\n",
    "cachorro3 = [1, 1, 1]\n",
    "\n",
    "# 1 => porco, 0 => cachorro\n",
    "\n",
    "# Os dados de treino são geralmente relacionados ao termo train ou treino. Os dados de treino em x correspondem ao conjunto\n",
    "# de dados que servirão para treinar o modelo. Já os dados de treino em y, correspondem às classes/classificações conhecidas\n",
    "# que alimentam o modelo\n",
    "treino_x = [porco1, porco2, porco3, cachorro1, cachorro2, cachorro3]\n",
    "treino_y = [1,1,1,0,0,0]"
   ]
  },
  {
   "cell_type": "code",
   "execution_count": 2,
   "metadata": {},
   "outputs": [],
   "source": [
    "# Importando SciKit Learn e importando um estimador linear\n",
    "from sklearn.svm import LinearSVC"
   ]
  },
  {
   "cell_type": "code",
   "execution_count": 3,
   "metadata": {},
   "outputs": [
    {
     "data": {
      "text/plain": [
       "LinearSVC(C=1.0, class_weight=None, dual=True, fit_intercept=True,\n",
       "          intercept_scaling=1, loss='squared_hinge', max_iter=1000,\n",
       "          multi_class='ovr', penalty='l2', random_state=None, tol=0.0001,\n",
       "          verbose=0)"
      ]
     },
     "execution_count": 3,
     "metadata": {},
     "output_type": "execute_result"
    }
   ],
   "source": [
    "# O LinearSVC é uma classe que possibilita a criação de um modelo. Portanto, instanciaremos esse estimador (recebendo o nome\n",
    "# model), e solicitaremos que ele analise a aprenda com os dados que disponibilizamos. Assim como um ser humano aprende sobre\n",
    "# a classificação dos objetos no mundo de forma supervisionada, o modelo tentará adaptar sua lógica de pensamento com base \n",
    "# nos dados. O método utilizado para esta ação chama-se fit(), que receberá como parâmetro dados, mas como estamos realizando\n",
    "# um aprendizado supervisionado, devemos também declarar quais são as classes. \n",
    "model = LinearSVC()\n",
    "model.fit(treino_x, treino_y)"
   ]
  },
  {
   "cell_type": "code",
   "execution_count": 4,
   "metadata": {},
   "outputs": [
    {
     "data": {
      "text/plain": [
       "array([0])"
      ]
     },
     "execution_count": 4,
     "metadata": {},
     "output_type": "execute_result"
    }
   ],
   "source": [
    "# Adicionando um animal misterioso, para o modelo tentar predizer à qual classe ele pertence. \n",
    "# O método espera um argumento que seja um vetor 2-D. Para solucionar, isso o animal_misterioso deve ser passado como um item,\n",
    "# entre []. \n",
    "# Resultado = 0 => cachorro; 1=> porco\n",
    "animal_misterioso = [1,1,1]\n",
    "model.predict([animal_misterioso])"
   ]
  },
  {
   "cell_type": "code",
   "execution_count": 5,
   "metadata": {},
   "outputs": [
    {
     "data": {
      "text/plain": [
       "array([0, 1, 0])"
      ]
     },
     "execution_count": 5,
     "metadata": {},
     "output_type": "execute_result"
    }
   ],
   "source": [
    "# Adicionando novos animais misteriosos e predizendo as suas classes. Test_x contem os dados dos animais que servirão como \n",
    "# teste do modelo. Test_y contem as respostas corretas das classes dos animais misteriosos (esse dado está disponível porque\n",
    "# se trata de aprendizado supervisionado).\n",
    "animal_misterioso_1 = [1,1,1]\n",
    "animal_misterioso_2 = [1,1,0]\n",
    "animal_misterioso_3 = [0,1,1]\n",
    "\n",
    "teste_x = [animal_misterioso_1, animal_misterioso_2, animal_misterioso_3]\n",
    "teste_y = [0,1,1]\n",
    "\n",
    "previsoes = model.predict(teste_x)\n",
    "previsoes"
   ]
  },
  {
   "cell_type": "code",
   "execution_count": 6,
   "metadata": {},
   "outputs": [
    {
     "data": {
      "text/plain": [
       "numpy.ndarray"
      ]
     },
     "execution_count": 6,
     "metadata": {},
     "output_type": "execute_result"
    }
   ],
   "source": [
    "# Notar que o resultado de model.predict é um array do Numpy, que é utilizado pelo SKLearn\n",
    "type(previsoes)"
   ]
  },
  {
   "cell_type": "code",
   "execution_count": 10,
   "metadata": {},
   "outputs": [
    {
     "name": "stdout",
     "output_type": "stream",
     "text": [
      "Taxa de acerto do modelo = 66.66666666666666%.\n"
     ]
    }
   ],
   "source": [
    "# Com o vetor numpy, podemos fazer operações de somatório(sum()) para saber o número total de previsões corretas.\n",
    "# Total recebe o número total de testes efetuados.\n",
    "# Taxa de acerto é igual a corretos/total. O resultado é exibido com uma f-string.\n",
    "corretos = (previsoes == teste_y).sum()\n",
    "total = len(teste_x)\n",
    "taxa_de_acerto = corretos/total\n",
    "print(f'Taxa de acerto do modelo = {taxa_de_acerto*100}%.')"
   ]
  },
  {
   "cell_type": "code",
   "execution_count": 11,
   "metadata": {},
   "outputs": [
    {
     "name": "stdout",
     "output_type": "stream",
     "text": [
      "Taxa de acerto do modelo = 66.66666666666666%.\n"
     ]
    }
   ],
   "source": [
    "# Existe uma medida chamada accuracy_score que já existe no Sklearn e pode ser importada facilmente do módulo metrics:\n",
    "from sklearn.metrics import accuracy_score\n",
    "\n",
    "taxa_de_acerto = accuracy_score(teste_y, previsoes)\n",
    "print(f'Taxa de acerto do modelo = {taxa_de_acerto*100}%.')"
   ]
  },
  {
   "cell_type": "code",
   "execution_count": null,
   "metadata": {},
   "outputs": [],
   "source": []
  }
 ],
 "metadata": {
  "kernelspec": {
   "display_name": "Python 3",
   "language": "python",
   "name": "python3"
  },
  "language_info": {
   "codemirror_mode": {
    "name": "ipython",
    "version": 3
   },
   "file_extension": ".py",
   "mimetype": "text/x-python",
   "name": "python",
   "nbconvert_exporter": "python",
   "pygments_lexer": "ipython3",
   "version": "3.7.6"
  }
 },
 "nbformat": 4,
 "nbformat_minor": 4
}
